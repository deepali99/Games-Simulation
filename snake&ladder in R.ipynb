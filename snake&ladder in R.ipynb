{
 "cells": [
  {
   "cell_type": "markdown",
   "metadata": {},
   "source": [
    "We have a board which contains numbers from 1 to 30.The first player that reaches the highest number on the board, 30 in this case wins the game. Let us define the board to play the game. "
   ]
  },
  {
   "cell_type": "code",
   "execution_count": 100,
   "metadata": {},
   "outputs": [
    {
     "data": {
      "text/html": [
       "<ol class=list-inline>\n",
       "\t<li>1</li>\n",
       "\t<li>2</li>\n",
       "\t<li>3</li>\n",
       "\t<li>4</li>\n",
       "\t<li>5</li>\n",
       "\t<li>6</li>\n",
       "\t<li>7</li>\n",
       "\t<li>8</li>\n",
       "\t<li>9</li>\n",
       "\t<li>10</li>\n",
       "\t<li>11</li>\n",
       "\t<li>12</li>\n",
       "\t<li>13</li>\n",
       "\t<li>14</li>\n",
       "\t<li>15</li>\n",
       "\t<li>16</li>\n",
       "\t<li>17</li>\n",
       "\t<li>18</li>\n",
       "\t<li>19</li>\n",
       "\t<li>20</li>\n",
       "\t<li>21</li>\n",
       "\t<li>22</li>\n",
       "\t<li>23</li>\n",
       "\t<li>24</li>\n",
       "\t<li>25</li>\n",
       "\t<li>26</li>\n",
       "\t<li>27</li>\n",
       "\t<li>28</li>\n",
       "\t<li>29</li>\n",
       "\t<li>30</li>\n",
       "</ol>\n"
      ],
      "text/latex": [
       "\\begin{enumerate*}\n",
       "\\item 1\n",
       "\\item 2\n",
       "\\item 3\n",
       "\\item 4\n",
       "\\item 5\n",
       "\\item 6\n",
       "\\item 7\n",
       "\\item 8\n",
       "\\item 9\n",
       "\\item 10\n",
       "\\item 11\n",
       "\\item 12\n",
       "\\item 13\n",
       "\\item 14\n",
       "\\item 15\n",
       "\\item 16\n",
       "\\item 17\n",
       "\\item 18\n",
       "\\item 19\n",
       "\\item 20\n",
       "\\item 21\n",
       "\\item 22\n",
       "\\item 23\n",
       "\\item 24\n",
       "\\item 25\n",
       "\\item 26\n",
       "\\item 27\n",
       "\\item 28\n",
       "\\item 29\n",
       "\\item 30\n",
       "\\end{enumerate*}\n"
      ],
      "text/markdown": [
       "1. 1\n",
       "2. 2\n",
       "3. 3\n",
       "4. 4\n",
       "5. 5\n",
       "6. 6\n",
       "7. 7\n",
       "8. 8\n",
       "9. 9\n",
       "10. 10\n",
       "11. 11\n",
       "12. 12\n",
       "13. 13\n",
       "14. 14\n",
       "15. 15\n",
       "16. 16\n",
       "17. 17\n",
       "18. 18\n",
       "19. 19\n",
       "20. 20\n",
       "21. 21\n",
       "22. 22\n",
       "23. 23\n",
       "24. 24\n",
       "25. 25\n",
       "26. 26\n",
       "27. 27\n",
       "28. 28\n",
       "29. 29\n",
       "30. 30\n",
       "\n",
       "\n"
      ],
      "text/plain": [
       " [1]  1  2  3  4  5  6  7  8  9 10 11 12 13 14 15 16 17 18 19 20 21 22 23 24 25\n",
       "[26] 26 27 28 29 30"
      ]
     },
     "metadata": {},
     "output_type": "display_data"
    }
   ],
   "source": [
    "board = c(1:30)\n",
    "board"
   ]
  },
  {
   "cell_type": "markdown",
   "metadata": {},
   "source": [
    "Each person throws a dice one after the other to traverse from 1 to 30. On throwing the dice the dice can show any number between 1 and 6. Let us define the dice now"
   ]
  },
  {
   "cell_type": "code",
   "execution_count": 101,
   "metadata": {},
   "outputs": [
    {
     "data": {
      "text/html": [
       "<ol class=list-inline>\n",
       "\t<li>1</li>\n",
       "\t<li>2</li>\n",
       "\t<li>3</li>\n",
       "\t<li>4</li>\n",
       "\t<li>5</li>\n",
       "\t<li>6</li>\n",
       "</ol>\n"
      ],
      "text/latex": [
       "\\begin{enumerate*}\n",
       "\\item 1\n",
       "\\item 2\n",
       "\\item 3\n",
       "\\item 4\n",
       "\\item 5\n",
       "\\item 6\n",
       "\\end{enumerate*}\n"
      ],
      "text/markdown": [
       "1. 1\n",
       "2. 2\n",
       "3. 3\n",
       "4. 4\n",
       "5. 5\n",
       "6. 6\n",
       "\n",
       "\n"
      ],
      "text/plain": [
       "[1] 1 2 3 4 5 6"
      ]
     },
     "metadata": {},
     "output_type": "display_data"
    }
   ],
   "source": [
    "dice = c(1:6)\n",
    "dice"
   ]
  },
  {
   "cell_type": "markdown",
   "metadata": {},
   "source": [
    "While playing the game if a user's current position is :\n",
    "<li>Snake's head : Then the player will slide down to the bottom of the snake i.e the snake's tail</li> \n",
    "<li>Ladder's bottom : Then the player will climb to the top of the ladder</li>\n",
    "Let us make a table which shows the position at which the following occur :\n",
    "<li>snake's head</li>\n",
    "<li>snake's tail</li>\n",
    "<li>ladder's bottom</li>\n",
    "<li>ladder's top</li>\n"
   ]
  },
  {
   "cell_type": "code",
   "execution_count": 102,
   "metadata": {},
   "outputs": [
    {
     "data": {
      "text/html": [
       "<table>\n",
       "<thead><tr><th scope=col>head</th><th scope=col>tail</th></tr></thead>\n",
       "<tbody>\n",
       "\t<tr><td>17</td><td>4 </td></tr>\n",
       "\t<tr><td>19</td><td>7 </td></tr>\n",
       "\t<tr><td>21</td><td>9 </td></tr>\n",
       "\t<tr><td>27</td><td>1 </td></tr>\n",
       "</tbody>\n",
       "</table>\n"
      ],
      "text/latex": [
       "\\begin{tabular}{r|ll}\n",
       " head & tail\\\\\n",
       "\\hline\n",
       "\t 17 & 4 \\\\\n",
       "\t 19 & 7 \\\\\n",
       "\t 21 & 9 \\\\\n",
       "\t 27 & 1 \\\\\n",
       "\\end{tabular}\n"
      ],
      "text/markdown": [
       "\n",
       "head | tail | \n",
       "|---|---|---|---|\n",
       "| 17 | 4  | \n",
       "| 19 | 7  | \n",
       "| 21 | 9  | \n",
       "| 27 | 1  | \n",
       "\n",
       "\n"
      ],
      "text/plain": [
       "  head tail\n",
       "1 17   4   \n",
       "2 19   7   \n",
       "3 21   9   \n",
       "4 27   1   "
      ]
     },
     "metadata": {},
     "output_type": "display_data"
    }
   ],
   "source": [
    "snake = data.frame(head = c(17,19,21,27),tail = c(4,7,9,1))\n",
    "snake"
   ]
  },
  {
   "cell_type": "code",
   "execution_count": 103,
   "metadata": {},
   "outputs": [
    {
     "data": {
      "text/html": [
       "<table>\n",
       "<thead><tr><th scope=col>foot</th><th scope=col>top</th></tr></thead>\n",
       "<tbody>\n",
       "\t<tr><td> 3</td><td>22</td></tr>\n",
       "\t<tr><td> 5</td><td> 8</td></tr>\n",
       "\t<tr><td>11</td><td>26</td></tr>\n",
       "\t<tr><td>20</td><td>29</td></tr>\n",
       "</tbody>\n",
       "</table>\n"
      ],
      "text/latex": [
       "\\begin{tabular}{r|ll}\n",
       " foot & top\\\\\n",
       "\\hline\n",
       "\t  3 & 22\\\\\n",
       "\t  5 &  8\\\\\n",
       "\t 11 & 26\\\\\n",
       "\t 20 & 29\\\\\n",
       "\\end{tabular}\n"
      ],
      "text/markdown": [
       "\n",
       "foot | top | \n",
       "|---|---|---|---|\n",
       "|  3 | 22 | \n",
       "|  5 |  8 | \n",
       "| 11 | 26 | \n",
       "| 20 | 29 | \n",
       "\n",
       "\n"
      ],
      "text/plain": [
       "  foot top\n",
       "1  3   22 \n",
       "2  5    8 \n",
       "3 11   26 \n",
       "4 20   29 "
      ]
     },
     "metadata": {},
     "output_type": "display_data"
    }
   ],
   "source": [
    "ladder = data.frame(foot = c(3,5,11,20),top = c(22,8,26,29))\n",
    "ladder"
   ]
  },
  {
   "cell_type": "markdown",
   "metadata": {},
   "source": [
    "Suppose a player starts playing and throws a dice.<br>To capture the outcome when a dice is thrown we define a function that gives us the outcome on the throw of a dice.<br>\n",
    "<b>Function name</b>: get_dice <br>\n",
    "<b>Functionality</b> : Returns the number obtained on the throw of a dice <br>\n",
    "<b>Returns</b> : A random number on the throw of a dice<br>\n",
    "<b>Arguments</b>: None"
   ]
  },
  {
   "cell_type": "code",
   "execution_count": 104,
   "metadata": {},
   "outputs": [
    {
     "data": {
      "text/html": [
       "2"
      ],
      "text/latex": [
       "2"
      ],
      "text/markdown": [
       "2"
      ],
      "text/plain": [
       "[1] 2"
      ]
     },
     "metadata": {},
     "output_type": "display_data"
    }
   ],
   "source": [
    "get_dice = function(){\n",
    "    throw = sample(dice,size = 1,replace = T)\n",
    "    return(throw)\n",
    "}\n",
    "get_dice()   # fuction calling"
   ]
  },
  {
   "cell_type": "markdown",
   "metadata": {},
   "source": [
    "On throwing the dice,based on the number obtained after the throw the current position of the player gets updated to the new position. For this we write a function that updates the player's current position after a dice is thrown<br>\n",
    "<b>Function name</b>: current_board_position <br>\n",
    "<b>Functionality</b>: After throwing the dice this function updates the new board position <br>\n",
    "<b>Returns </b>: It returns the new board position<br>\n",
    "<b>Returns</b>: New updated position<br>\n",
    "<b>Arguments</b>:Current position"
   ]
  },
  {
   "cell_type": "code",
   "execution_count": 105,
   "metadata": {},
   "outputs": [
    {
     "name": "stdout",
     "output_type": "stream",
     "text": [
      "[1] 4\n"
     ]
    },
    {
     "data": {
      "text/html": [
       "4"
      ],
      "text/latex": [
       "4"
      ],
      "text/markdown": [
       "4"
      ],
      "text/plain": [
       "[1] 4"
      ]
     },
     "metadata": {},
     "output_type": "display_data"
    }
   ],
   "source": [
    "current_board_position = function(current_position){\n",
    "    get_throw = get_dice()\n",
    "    new_position = get_throw + current_position\n",
    "    print(new_position)\n",
    "    return (new_position)\n",
    "}\n",
    "current_board_position(2)"
   ]
  },
  {
   "cell_type": "markdown",
   "metadata": {},
   "source": [
    "While playing the game there is a possibility that the updated position of the player is ladder's foot or a snake's head. In both theses cases the players position gets upated to ladder's top and snake's tail respectively. Lets write a function that evaluates the condition for this and handles it.<br>\n",
    "<b>Function name</b>: Check_snake_ladder<br>\n",
    "<b>Functionality</b>: Checks if the player is at a position where there is a snake's head or a ladder's foot.If it is at the above mentioned position update the new position to the snake's tail and ladder's top respectively<br>\n",
    "<b>Returns </b>: Adjusted position if a snake's head or a ladder's foot is encountered<br>\n",
    "<b>Arguments</b>: player's position\n"
   ]
  },
  {
   "cell_type": "code",
   "execution_count": 1,
   "metadata": {},
   "outputs": [
    {
     "name": "stdout",
     "output_type": "stream",
     "text": [
      "[1] \"Players position is neither on snakes head nor on ladders foot\"\n"
     ]
    },
    {
     "data": {
      "text/html": [
       "11"
      ],
      "text/latex": [
       "11"
      ],
      "text/markdown": [
       "11"
      ],
      "text/plain": [
       "[1] 11"
      ]
     },
     "metadata": {},
     "output_type": "display_data"
    }
   ],
   "source": [
    "check_snake_ladder = function(player_position){\n",
    "    if(player_position %in% snake$head)\n",
    "    {\n",
    "        print('Players position is in snakes head')\n",
    "    trap_index = which(snake$head==player_position) # Check if player's position is present in the snake's head column\n",
    "    adj_position = snake$tail[trap_index] # if it is present find the corresponding tail and update it to the adjusted position  \n",
    "    }\n",
    "    else if(player_position %in% ladder$foot)\n",
    "    {\n",
    "        print('Players position is in ladders foot')\n",
    "        ladder_index = which(ladder$foot==player_position) # Check if player's position is present in the ladder's foor column\n",
    "        adj_position = ladder$top[ladder_index] # If it is present find the corresponding top of the ladder from the ladder table and update it to the adjusted position\n",
    "    }\n",
    "    else\n",
    "        {\n",
    "        print('Players position is neither on snakes head nor on ladders foot')\n",
    "        adj_position = player_position # If the player_position is neither a snake's had or a ladder's then we default to the earlier position\n",
    "        }\n",
    "        return(adj_position)\n",
    "    \n",
    "}\n",
    "check_snake_ladder(11)  # function call"
   ]
  },
  {
   "cell_type": "markdown",
   "metadata": {},
   "source": [
    "Now let us determine when will the game end. For this we write the logic to end the game"
   ]
  },
  {
   "cell_type": "code",
   "execution_count": 107,
   "metadata": {},
   "outputs": [
    {
     "name": "stdout",
     "output_type": "stream",
     "text": [
      "[1] 7\n"
     ]
    }
   ],
   "source": [
    "current_position = 0 # game starts from position 0 \n",
    "turn = 0 # The game has just started and the dice has not been thrown even once i.e the turn = 0\n",
    "while(current_position<30)\n",
    "    {\n",
    "    get_dice()\n",
    "    new_position = current_position +  get_dice()\n",
    "    turn = turn+1\n",
    "    current_position = new_position\n",
    "    }\n",
    "print(turn)"
   ]
  },
  {
   "cell_type": "markdown",
   "metadata": {},
   "source": [
    "Let us get the adjusted position of the game"
   ]
  },
  {
   "cell_type": "markdown",
   "metadata": {},
   "source": [
    "<b>Function name</b>: board_position <br>\n",
    "<b>Functionality</b>: Finds the adjusted position by throwing a dice and then checking the condition for a snake and ladder   <br>\n",
    "<b>Returns </b>: updated position after throwing the dice and checking for sake and ladder conditions <br>\n",
    "<b>Arguments</b>: current_value or the current position of the player"
   ]
  },
  {
   "cell_type": "code",
   "execution_count": 108,
   "metadata": {},
   "outputs": [
    {
     "name": "stdout",
     "output_type": "stream",
     "text": [
      "[1] \"Players position is neither on snakes head nor on ladders foot\"\n"
     ]
    },
    {
     "data": {
      "text/html": [
       "7"
      ],
      "text/latex": [
       "7"
      ],
      "text/markdown": [
       "7"
      ],
      "text/plain": [
       "[1] 7"
      ]
     },
     "metadata": {},
     "output_type": "display_data"
    }
   ],
   "source": [
    "board_position = function(current_value)\n",
    "{\n",
    "  eval_position = current_value + get_dice() #  get the intermediate position by throwing a dice\n",
    "  adjusted_position = check_snake_ladder(player_position = eval_position)\n",
    "  return(adjusted_position)\n",
    "}\n",
    "position = board_position(1)   # calling\n",
    "position"
   ]
  },
  {
   "cell_type": "markdown",
   "metadata": {},
   "source": [
    "Let us put the entire game in a function. All other functions will be called in this function"
   ]
  },
  {
   "cell_type": "markdown",
   "metadata": {},
   "source": [
    "<b>Function name</b>: play_snake_ladder <br>\n",
    "<b>Functionality</b>: All the other functions are called from this function <br>\n",
    "<b>Returns </b>: turns used to play the game <br>\n",
    "<b>Arguments</b>: None"
   ]
  },
  {
   "cell_type": "code",
   "execution_count": 2,
   "metadata": {},
   "outputs": [
    {
     "ename": "ERROR",
     "evalue": "Error in board_position(current_value = current_position): could not find function \"board_position\"\n",
     "output_type": "error",
     "traceback": [
      "Error in board_position(current_value = current_position): could not find function \"board_position\"\nTraceback:\n",
      "1. play_snake_ladder()"
     ]
    }
   ],
   "source": [
    "play_snake_ladder = function()\n",
    "{\n",
    "  current_position = 0\n",
    "  turn = 0\n",
    "   while(current_position!=max(board))\n",
    "  {\n",
    "    previous_position = current_position\n",
    "    new_position = board_position(current_value = current_position)\n",
    "    \n",
    "    if(new_position > max(board))\n",
    "      current_position = previous_position\n",
    "    else\n",
    "      current_position = new_position\n",
    "      turn = turn + 1\n",
    "  }\n",
    "  return(turn)\n",
    "}\n",
    " play_snake_ladder()"
   ]
  },
  {
   "cell_type": "markdown",
   "metadata": {},
   "source": [
    "The game can be repeated any number of times. To play the game 'n' number of times we make use of replicate function which allows the user to play the game n number of times"
   ]
  },
  {
   "cell_type": "code",
   "execution_count": 111,
   "metadata": {
    "collapsed": true
   },
   "outputs": [
    {
     "name": "stdout",
     "output_type": "stream",
     "text": [
      "[1] \"Players position is neither on snakes head nor on ladders foot\"\n",
      "[1] \"Players position is neither on snakes head nor on ladders foot\"\n",
      "[1] \"Players position is neither on snakes head nor on ladders foot\"\n",
      "[1] \"Players position is neither on snakes head nor on ladders foot\"\n",
      "[1] \"Players position is neither on snakes head nor on ladders foot\"\n",
      "[1] \"Players position is in snakes head\"\n",
      "[1] \"Players position is neither on snakes head nor on ladders foot\"\n",
      "[1] \"Players position is neither on snakes head nor on ladders foot\"\n",
      "[1] \"Players position is neither on snakes head nor on ladders foot\"\n",
      "[1] \"Players position is in ladders foot\"\n",
      "[1] \"Players position is neither on snakes head nor on ladders foot\"\n",
      "[1] \"Players position is neither on snakes head nor on ladders foot\"\n",
      "[1] \"Players position is neither on snakes head nor on ladders foot\"\n",
      "[1] \"Players position is in ladders foot\"\n",
      "[1] \"Players position is in ladders foot\"\n",
      "[1] \"Players position is neither on snakes head nor on ladders foot\"\n",
      "[1] \"Players position is neither on snakes head nor on ladders foot\"\n",
      "[1] \"Players position is neither on snakes head nor on ladders foot\"\n",
      "[1] \"Players position is neither on snakes head nor on ladders foot\"\n",
      "[1] \"Players position is neither on snakes head nor on ladders foot\"\n",
      "[1] \"Players position is neither on snakes head nor on ladders foot\"\n",
      "[1] \"Players position is neither on snakes head nor on ladders foot\"\n",
      "[1] \"Players position is neither on snakes head nor on ladders foot\"\n",
      "[1] \"Players position is neither on snakes head nor on ladders foot\"\n",
      "[1] \"Players position is neither on snakes head nor on ladders foot\"\n",
      "[1] \"Players position is neither on snakes head nor on ladders foot\"\n",
      "[1] \"Players position is neither on snakes head nor on ladders foot\"\n",
      "[1] \"Players position is neither on snakes head nor on ladders foot\"\n",
      "[1] \"Players position is neither on snakes head nor on ladders foot\"\n",
      "[1] \"Players position is neither on snakes head nor on ladders foot\"\n",
      "[1] \"Players position is in ladders foot\"\n",
      "[1] \"Players position is neither on snakes head nor on ladders foot\"\n",
      "[1] \"Players position is neither on snakes head nor on ladders foot\"\n",
      "[1] \"Players position is neither on snakes head nor on ladders foot\"\n",
      "[1] \"Players position is neither on snakes head nor on ladders foot\"\n",
      "[1] \"Players position is neither on snakes head nor on ladders foot\"\n",
      "[1] \"Players position is neither on snakes head nor on ladders foot\"\n",
      "[1] \"Players position is neither on snakes head nor on ladders foot\"\n",
      "[1] \"Players position is in snakes head\"\n",
      "[1] \"Players position is neither on snakes head nor on ladders foot\"\n",
      "[1] \"Players position is neither on snakes head nor on ladders foot\"\n",
      "[1] \"Players position is neither on snakes head nor on ladders foot\"\n",
      "[1] \"Players position is neither on snakes head nor on ladders foot\"\n",
      "[1] \"Players position is neither on snakes head nor on ladders foot\"\n",
      "[1] \"Players position is neither on snakes head nor on ladders foot\"\n",
      "[1] \"Players position is in snakes head\"\n",
      "[1] \"Players position is neither on snakes head nor on ladders foot\"\n",
      "[1] \"Players position is in ladders foot\"\n",
      "[1] \"Players position is neither on snakes head nor on ladders foot\"\n",
      "[1] \"Players position is neither on snakes head nor on ladders foot\"\n",
      "[1] \"Players position is neither on snakes head nor on ladders foot\"\n",
      "[1] \"Players position is neither on snakes head nor on ladders foot\"\n",
      "[1] \"Players position is neither on snakes head nor on ladders foot\"\n",
      "[1] \"Players position is neither on snakes head nor on ladders foot\"\n",
      "[1] \"Players position is in ladders foot\"\n",
      "[1] \"Players position is neither on snakes head nor on ladders foot\"\n",
      "[1] \"Players position is neither on snakes head nor on ladders foot\"\n",
      "[1] \"Players position is neither on snakes head nor on ladders foot\"\n",
      "[1] \"Players position is neither on snakes head nor on ladders foot\"\n",
      "[1] \"Players position is neither on snakes head nor on ladders foot\"\n",
      "[1] \"Players position is neither on snakes head nor on ladders foot\"\n",
      "[1] \"Players position is in ladders foot\"\n",
      "[1] \"Players position is in snakes head\"\n",
      "[1] \"Players position is neither on snakes head nor on ladders foot\"\n",
      "[1] \"Players position is neither on snakes head nor on ladders foot\"\n",
      "[1] \"Players position is neither on snakes head nor on ladders foot\"\n",
      "[1] \"Players position is neither on snakes head nor on ladders foot\"\n",
      "[1] \"Players position is neither on snakes head nor on ladders foot\"\n",
      "[1] \"Players position is in ladders foot\"\n",
      "[1] \"Players position is neither on snakes head nor on ladders foot\"\n",
      "[1] \"Players position is neither on snakes head nor on ladders foot\"\n",
      "[1] \"Players position is neither on snakes head nor on ladders foot\"\n",
      "[1] \"Players position is neither on snakes head nor on ladders foot\"\n",
      "[1] \"Players position is in ladders foot\"\n",
      "[1] \"Players position is in snakes head\"\n",
      "[1] \"Players position is in ladders foot\"\n",
      "[1] \"Players position is neither on snakes head nor on ladders foot\"\n",
      "[1] \"Players position is neither on snakes head nor on ladders foot\"\n",
      "[1] \"Players position is in snakes head\"\n",
      "[1] \"Players position is neither on snakes head nor on ladders foot\"\n",
      "[1] \"Players position is neither on snakes head nor on ladders foot\"\n",
      "[1] \"Players position is neither on snakes head nor on ladders foot\"\n",
      "[1] \"Players position is neither on snakes head nor on ladders foot\"\n",
      "[1] \"Players position is neither on snakes head nor on ladders foot\"\n",
      "[1] \"Players position is in snakes head\"\n",
      "[1] \"Players position is neither on snakes head nor on ladders foot\"\n",
      "[1] \"Players position is neither on snakes head nor on ladders foot\"\n",
      "[1] \"Players position is neither on snakes head nor on ladders foot\"\n",
      "[1] \"Players position is neither on snakes head nor on ladders foot\"\n",
      "[1] \"Players position is in ladders foot\"\n",
      "[1] \"Players position is neither on snakes head nor on ladders foot\"\n",
      "[1] \"Players position is neither on snakes head nor on ladders foot\"\n",
      "[1] \"Players position is neither on snakes head nor on ladders foot\"\n",
      "[1] \"Players position is neither on snakes head nor on ladders foot\"\n",
      "[1] \"Players position is neither on snakes head nor on ladders foot\"\n",
      "[1] \"Players position is neither on snakes head nor on ladders foot\"\n",
      "[1] \"Players position is neither on snakes head nor on ladders foot\"\n",
      "[1] \"Players position is neither on snakes head nor on ladders foot\"\n",
      "[1] \"Players position is neither on snakes head nor on ladders foot\"\n",
      "[1] \"Players position is neither on snakes head nor on ladders foot\"\n",
      "[1] \"Players position is neither on snakes head nor on ladders foot\"\n",
      "[1] \"Players position is neither on snakes head nor on ladders foot\"\n",
      "[1] \"Players position is neither on snakes head nor on ladders foot\"\n",
      "[1] \"Players position is in ladders foot\"\n",
      "[1] \"Players position is neither on snakes head nor on ladders foot\"\n",
      "[1] \"Players position is in snakes head\"\n",
      "[1] \"Players position is in ladders foot\"\n",
      "[1] \"Players position is neither on snakes head nor on ladders foot\"\n",
      "[1] \"Players position is in ladders foot\"\n",
      "[1] \"Players position is in ladders foot\"\n",
      "[1] \"Players position is in snakes head\"\n",
      "[1] \"Players position is neither on snakes head nor on ladders foot\"\n",
      "[1] \"Players position is neither on snakes head nor on ladders foot\"\n",
      "[1] \"Players position is neither on snakes head nor on ladders foot\"\n",
      "[1] \"Players position is neither on snakes head nor on ladders foot\"\n",
      "[1] \"Players position is in snakes head\"\n",
      "[1] \"Players position is neither on snakes head nor on ladders foot\"\n",
      "[1] \"Players position is neither on snakes head nor on ladders foot\"\n",
      "[1] \"Players position is in ladders foot\"\n",
      "[1] \"Players position is neither on snakes head nor on ladders foot\"\n",
      "[1] \"Players position is neither on snakes head nor on ladders foot\"\n",
      "[1] \"Players position is neither on snakes head nor on ladders foot\"\n"
     ]
    },
    {
     "data": {
      "text/html": [
       "<ol class=list-inline>\n",
       "\t<li>13</li>\n",
       "\t<li>5</li>\n",
       "\t<li>12</li>\n",
       "\t<li>3</li>\n",
       "\t<li>21</li>\n",
       "\t<li>5</li>\n",
       "\t<li>14</li>\n",
       "\t<li>30</li>\n",
       "\t<li>5</li>\n",
       "\t<li>14</li>\n",
       "</ol>\n"
      ],
      "text/latex": [
       "\\begin{enumerate*}\n",
       "\\item 13\n",
       "\\item 5\n",
       "\\item 12\n",
       "\\item 3\n",
       "\\item 21\n",
       "\\item 5\n",
       "\\item 14\n",
       "\\item 30\n",
       "\\item 5\n",
       "\\item 14\n",
       "\\end{enumerate*}\n"
      ],
      "text/markdown": [
       "1. 13\n",
       "2. 5\n",
       "3. 12\n",
       "4. 3\n",
       "5. 21\n",
       "6. 5\n",
       "7. 14\n",
       "8. 30\n",
       "9. 5\n",
       "10. 14\n",
       "\n",
       "\n"
      ],
      "text/plain": [
       " [1] 13  5 12  3 21  5 14 30  5 14"
      ]
     },
     "metadata": {},
     "output_type": "display_data"
    }
   ],
   "source": [
    "turns = replicate(10,play_snake_ladder())\n",
    "turns"
   ]
  },
  {
   "cell_type": "code",
   "execution_count": null,
   "metadata": {},
   "outputs": [],
   "source": []
  }
 ],
 "metadata": {
  "kernelspec": {
   "display_name": "R",
   "language": "R",
   "name": "ir"
  },
  "language_info": {
   "codemirror_mode": "r",
   "file_extension": ".r",
   "mimetype": "text/x-r-source",
   "name": "R",
   "pygments_lexer": "r",
   "version": "3.4.2"
  }
 },
 "nbformat": 4,
 "nbformat_minor": 2
}
