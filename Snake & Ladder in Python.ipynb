{
 "cells": [
  {
   "cell_type": "code",
   "execution_count": 2,
   "metadata": {},
   "outputs": [],
   "source": [
    "from vectors import Point, Vector\n",
    "import pandas as pd\n",
    "import numpy as np"
   ]
  },
  {
   "cell_type": "code",
   "execution_count": 3,
   "metadata": {},
   "outputs": [
    {
     "data": {
      "text/plain": [
       "Vector(1, 2, 3)"
      ]
     },
     "execution_count": 3,
     "metadata": {},
     "output_type": "execute_result"
    }
   ],
   "source": [
    "board = Vector(1,2,3)\n",
    "board"
   ]
  },
  {
   "cell_type": "code",
   "execution_count": 4,
   "metadata": {},
   "outputs": [],
   "source": [
    "board = ['1','2','3','4','5','6','7','8','9','10','11','12''13','14','15','16','17','18','19','20','21','']"
   ]
  },
  {
   "cell_type": "code",
   "execution_count": 5,
   "metadata": {},
   "outputs": [
    {
     "data": {
      "text/plain": [
       "['1', '2', '3', '4', '5', '6']"
      ]
     },
     "execution_count": 5,
     "metadata": {},
     "output_type": "execute_result"
    }
   ],
   "source": [
    "dice = ['1','2','3','4','5','6']\n",
    "dice"
   ]
  },
  {
   "cell_type": "code",
   "execution_count": 6,
   "metadata": {},
   "outputs": [
    {
     "name": "stdout",
     "output_type": "stream",
     "text": [
      "  head tail\n",
      "0   17    4\n",
      "1   19    7\n",
      "2   21    9\n",
      "3   27    1\n"
     ]
    }
   ],
   "source": [
    "data = [['17','4'],['19','7'],['21','9'],['27','1']]\n",
    "snake = pd.DataFrame(data,columns=['head','tail'])\n",
    "print (snake)"
   ]
  },
  {
   "cell_type": "code",
   "execution_count": 7,
   "metadata": {},
   "outputs": [
    {
     "name": "stdout",
     "output_type": "stream",
     "text": [
      "  foot top\n",
      "0    3  22\n",
      "1    5   8\n",
      "2   11  26\n",
      "3   20  29\n"
     ]
    }
   ],
   "source": [
    "data =[['3','22'],['5','8'],['11','26'],['20','29']]\n",
    "ladder =pd.DataFrame(data,columns=['foot','top'])\n",
    "print(ladder)"
   ]
  },
  {
   "cell_type": "code",
   "execution_count": 8,
   "metadata": {},
   "outputs": [
    {
     "data": {
      "text/plain": [
       "array(['2'], dtype='<U1')"
      ]
     },
     "execution_count": 8,
     "metadata": {},
     "output_type": "execute_result"
    }
   ],
   "source": [
    "def get_dice():\n",
    "    throw = np.random.choice(dice, size=1,replace = True)\n",
    "    type(throw)\n",
    "    return(throw)\n",
    "\n",
    "get_dice()    "
   ]
  },
  {
   "cell_type": "code",
   "execution_count": 9,
   "metadata": {},
   "outputs": [
    {
     "ename": "TypeError",
     "evalue": "ufunc 'add' did not contain a loop with signature matching types dtype('<U3') dtype('<U3') dtype('<U3')",
     "output_type": "error",
     "traceback": [
      "\u001b[0;31m---------------------------------------------------------------------------\u001b[0m",
      "\u001b[0;31mTypeError\u001b[0m                                 Traceback (most recent call last)",
      "\u001b[0;32m<ipython-input-9-07ca26c4ce81>\u001b[0m in \u001b[0;36m<module>\u001b[0;34m()\u001b[0m\n\u001b[1;32m      9\u001b[0m     \u001b[0;32mreturn\u001b[0m \u001b[0;34m(\u001b[0m\u001b[0mnew_position\u001b[0m\u001b[0;34m)\u001b[0m\u001b[0;34m\u001b[0m\u001b[0m\n\u001b[1;32m     10\u001b[0m \u001b[0;34m\u001b[0m\u001b[0m\n\u001b[0;32m---> 11\u001b[0;31m \u001b[0mcurrent_board_position\u001b[0m\u001b[0;34m(\u001b[0m\u001b[0;36m3\u001b[0m\u001b[0;34m)\u001b[0m\u001b[0;34m\u001b[0m\u001b[0m\n\u001b[0m",
      "\u001b[0;32m<ipython-input-9-07ca26c4ce81>\u001b[0m in \u001b[0;36mcurrent_board_position\u001b[0;34m(current_position)\u001b[0m\n\u001b[1;32m      3\u001b[0m \u001b[0;31m#   print(get_throw)\u001b[0m\u001b[0;34m\u001b[0m\u001b[0;34m\u001b[0m\u001b[0m\n\u001b[1;32m      4\u001b[0m \u001b[0;31m#   print(current_position)\u001b[0m\u001b[0;34m\u001b[0m\u001b[0;34m\u001b[0m\u001b[0m\n\u001b[0;32m----> 5\u001b[0;31m     \u001b[0mnew_position\u001b[0m \u001b[0;34m=\u001b[0m \u001b[0mthrow\u001b[0m \u001b[0;34m+\u001b[0m \u001b[0mcurrent_position\u001b[0m \u001b[0;31m# replace get_throw() with some no and it works.problem is in get_throw k value k addition me\u001b[0m\u001b[0;34m\u001b[0m\u001b[0m\n\u001b[0m\u001b[1;32m      6\u001b[0m    \u001b[0;31m#print(get_throw)\u001b[0m\u001b[0;34m\u001b[0m\u001b[0;34m\u001b[0m\u001b[0m\n\u001b[1;32m      7\u001b[0m \u001b[0;31m#   print(current_position)\u001b[0m\u001b[0;34m\u001b[0m\u001b[0;34m\u001b[0m\u001b[0m\n",
      "\u001b[0;31mTypeError\u001b[0m: ufunc 'add' did not contain a loop with signature matching types dtype('<U3') dtype('<U3') dtype('<U3')"
     ]
    }
   ],
   "source": [
    "def current_board_position(current_position):\n",
    "    throw = get_dice()\n",
    "#   print(get_throw)\n",
    "#   print(current_position)\n",
    "    new_position = throw + current_position # replace get_throw() with some no and it works.problem is in get_throw k value k addition me \n",
    "   #print(get_throw)\n",
    "#   print(current_position)\n",
    "#   print(new_position)\n",
    "    return (new_position)\n",
    "\n",
    "current_board_position(3)\n"
   ]
  },
  {
   "cell_type": "code",
   "execution_count": null,
   "metadata": {},
   "outputs": [],
   "source": [
    "def check_snake_ladder(player_position):\n",
    "    if(player_position.isin(snake[head])):{\n",
    "        printprint('Players position is in snakes head')\n",
    "        print(snake)\n",
    "        trap_index = which(snake[head]==player_position) \n",
    "        # Check if players position is present in the snakes head column\n",
    "        adj_position = snake[tail][trap_index] \n",
    "        # if it is present find the corresponding tail and update it to the adjusted position\n",
    "    }\n",
    "        elif(player_position.isin(ladder[foot])):{\n",
    "            print('Players position is in ladders foot')\n",
    "            ladder_index = which(ladder[foot]==player_position) # Check if players position is present in the ladders foor column\n",
    "            adj_position = ladder[top][ladder_index] # If it is present find the corresponding top of the ladder from the ladder table and update it to the adjusted position\n",
    "            \n",
    "        }\n",
    "            \n",
    "            else:{\n",
    "                print('Players position is neither on snakes head nor on ladders foot')\n",
    "                adj_position = player_position # If the player_position is neither a snakes had or a ladders then we default to the earlier position\n",
    "                  }\n",
    "                \n",
    "                return(adj_position)\n",
    "            \n",
    "check_snake_ladder(11)\n",
    "\n",
    "       \n",
    "        \n",
    "        \n",
    "\n",
    "        "
   ]
  },
  {
   "cell_type": "code",
   "execution_count": null,
   "metadata": {},
   "outputs": [],
   "source": [
    "def board_position(current_value):\n",
    "    { getdice()\n",
    "     print(current_value)\n",
    "     print(get_dice())\n",
    "      eval_position = current_value + get_dice() #  get the intermediate position by throwing a dice\n",
    "      adjusted_position = check_snake_ladder(player_position = eval_position)\n",
    "      return(adjusted_position)\n",
    "}\n",
    "position = board_position(1)   # calling\n",
    "position"
   ]
  },
  {
   "cell_type": "code",
   "execution_count": 135,
   "metadata": {},
   "outputs": [
    {
     "ename": "SyntaxError",
     "evalue": "invalid syntax (<ipython-input-135-e1a43767c3e0>, line 3)",
     "output_type": "error",
     "traceback": [
      "\u001b[0;36m  File \u001b[0;32m\"<ipython-input-135-e1a43767c3e0>\"\u001b[0;36m, line \u001b[0;32m3\u001b[0m\n\u001b[0;31m    current_position = 0\u001b[0m\n\u001b[0m                     ^\u001b[0m\n\u001b[0;31mSyntaxError\u001b[0m\u001b[0;31m:\u001b[0m invalid syntax\n"
     ]
    }
   ],
   "source": [
    "def play_snake_ladder():{\n",
    "    \n",
    "    current_position = 0\n",
    "    turn = 0\n",
    "     while(current_position!=max(board)):{\n",
    "         \n",
    "        previous_position = current_position\n",
    "        new_position = board_position(current_value = current_position)\n",
    "        if(new_position > max(board)):{\n",
    "        current_position = previous_position\n",
    "    }\n",
    "    else:{\n",
    "      current_position = new_position\n",
    "      turn = turn + 1\n",
    "  }\n",
    "  return(turn)\n",
    "}\n",
    " play_snake_ladder()"
   ]
  },
  {
   "cell_type": "code",
   "execution_count": null,
   "metadata": {},
   "outputs": [],
   "source": []
  }
 ],
 "metadata": {
  "kernelspec": {
   "display_name": "Python 3",
   "language": "python",
   "name": "python3"
  },
  "language_info": {
   "codemirror_mode": {
    "name": "ipython",
    "version": 3
   },
   "file_extension": ".py",
   "mimetype": "text/x-python",
   "name": "python",
   "nbconvert_exporter": "python",
   "pygments_lexer": "ipython3",
   "version": "3.6.4"
  }
 },
 "nbformat": 4,
 "nbformat_minor": 2
}
