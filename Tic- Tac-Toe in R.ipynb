{
 "cells": [
  {
   "cell_type": "markdown",
   "metadata": {},
   "source": [
    "Let us define the board on which we will play tic tac toe"
   ]
  },
  {
   "cell_type": "code",
   "execution_count": 2,
   "metadata": {},
   "outputs": [],
   "source": [
    "board = c(1:9)"
   ]
  },
  {
   "cell_type": "markdown",
   "metadata": {},
   "source": [
    "A player will win if he gets the following combination while playing the game"
   ]
  },
  {
   "cell_type": "code",
   "execution_count": 3,
   "metadata": {},
   "outputs": [],
   "source": [
    "win_positions = c(1,2,3)|c(4,5,6)|c(7,8,9)|c(1,5,9)|c(3,5,7)|c(1,4,7)|c(2,5,8)|c(3,6,9)"
   ]
  },
  {
   "cell_type": "markdown",
   "metadata": {},
   "source": [
    "Let us ask the player to choose a number where he wants to draw 'X' or '0'<br>\n",
    "position determines the position(1 to 9), a player chooses while playing the game"
   ]
  },
  {
   "cell_type": "code",
   "execution_count": 9,
   "metadata": {},
   "outputs": [
    {
     "data": {
      "text/html": [
       "1"
      ],
      "text/latex": [
       "1"
      ],
      "text/markdown": [
       "1"
      ],
      "text/plain": [
       "[1] 1"
      ]
     },
     "metadata": {},
     "output_type": "display_data"
    }
   ],
   "source": [
    "position = sample(board, size = 1,replace = T,prob = rep(0.11,9))\n",
    "position"
   ]
  },
  {
   "cell_type": "markdown",
   "metadata": {},
   "source": [
    "After we get the position that the user wants to choose, we move the  symbols ('X'or '0') at the respective positions.<br> So to move the 'X' or '0' we write the move function<br>\n",
    "<b>Function name</b>: move <br>\n",
    "<b>Functionality</b> : It takes the position and changes the state of the board <br>\n",
    "<b>Returns</b> : Nothing<br>\n",
    "<b>Arguments</b>: Player symbol (the one with 'X' or '0')  and position"
   ]
  },
  {
   "cell_type": "code",
   "execution_count": 5,
   "metadata": {},
   "outputs": [
    {
     "name": "stdout",
     "output_type": "stream",
     "text": [
      "[1] \"Hi this is player 2\"\n",
      "[1] 1\n"
     ]
    }
   ],
   "source": [
    "player1_board_position = c()\n",
    "player2_board_position = c()\n",
    "\n",
    "move = function(player_symbol, position)\n",
    "{\n",
    "  if(player_symbol == 'X'){\n",
    "    print('Hi this is player 1')\n",
    "    board = setdiff(board, position)  # subtracts the 'position' from the 'board'\n",
    "    player1_board_position = c(player1_board_position, position)\n",
    "      print(player1_board_position)\n",
    "  } \n",
    "  else if(player_symbol == '0') {\n",
    "    print('Hi this is player 2')\n",
    "    board = setdiff(board, position)\n",
    "    player2_board_position = c(player2_board_position, position)\n",
    "    print(player2_board_position)\n",
    "\n",
    "  }\n",
    "}\n",
    "move('0',1)  "
   ]
  },
  {
   "cell_type": "markdown",
   "metadata": {},
   "source": [
    "Let us determine when will the game end<br>The game ends if one of the player achieves a winning condition(win_positions) or the board is completely full<br>\n",
    "We write a function to determine if the game has ended or not<br>\n",
    "<b>Function name</b>: is_game_over <br>\n",
    "<b>Functionality</b> : Checks if the game is over or not <br>\n",
    "<b>Returns</b> : true if game is over and false if game is not over<br>\n",
    "<b>Arguments</b>: None\n"
   ]
  },
  {
   "cell_type": "code",
   "execution_count": 6,
   "metadata": {},
   "outputs": [
    {
     "data": {
      "text/html": [
       "TRUE"
      ],
      "text/latex": [
       "TRUE"
      ],
      "text/markdown": [
       "TRUE"
      ],
      "text/plain": [
       "[1] TRUE"
      ]
     },
     "metadata": {},
     "output_type": "display_data"
    }
   ],
   "source": [
    "is_game_over = function(){\n",
    "    if(length(board)==0){\n",
    "        return(FALSE)\n",
    "    }\n",
    "    else if (position %in% win_positions){\n",
    "        return(FALSE)\n",
    "    }\n",
    "    else\n",
    "        return(TRUE)\n",
    "}\n",
    "is_game_over()"
   ]
  },
  {
   "cell_type": "markdown",
   "metadata": {},
   "source": [
    "Let us put the entire game in a function. All other functions will be called in this function<br>\n",
    "<b>Function name</b>: tic_tac_toe <br>\n",
    "<b>Functionality</b> : Checks if the game is over or not <br>\n",
    "<b>Returns</b> : 0 if game is over <br>\n",
    "<b>Arguments</b>: Nothing"
   ]
  },
  {
   "cell_type": "code",
   "execution_count": 7,
   "metadata": {},
   "outputs": [
    {
     "name": "stdout",
     "output_type": "stream",
     "text": [
      "[1] \"Hi this is player 1\"\n",
      "[1] 7\n"
     ]
    },
    {
     "data": {
      "text/html": [
       "0"
      ],
      "text/latex": [
       "0"
      ],
      "text/markdown": [
       "0"
      ],
      "text/plain": [
       "[1] 0"
      ]
     },
     "metadata": {},
     "output_type": "display_data"
    }
   ],
   "source": [
    "tic_tac_toe = function()\n",
    "{\n",
    "  player1_symbol = 'X'\n",
    "  player2_symbol = 'O'\n",
    "  while(is_game_over())\n",
    "  {\n",
    "    player1_position = position\n",
    "    move(player1_symbol, player1_position)\n",
    "    if (is_game_over()) {\n",
    "      return (0)\n",
    "    }\n",
    "    player2_position = position\n",
    "    move(player2_symbol, player2_position)\n",
    "  }\n",
    "  return (0)\n",
    "}\n",
    "tic_tac_toe()"
   ]
  }
 ],
 "metadata": {
  "kernelspec": {
   "display_name": "R",
   "language": "R",
   "name": "ir"
  },
  "language_info": {
   "codemirror_mode": "r",
   "file_extension": ".r",
   "mimetype": "text/x-r-source",
   "name": "R",
   "pygments_lexer": "r",
   "version": "3.4.2"
  }
 },
 "nbformat": 4,
 "nbformat_minor": 2
}
